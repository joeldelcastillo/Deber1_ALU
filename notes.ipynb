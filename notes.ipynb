{
 "cells": [
  {
   "cell_type": "markdown",
   "metadata": {},
   "source": [
    "### Circuito para el 2 complemento\n",
    "\n",
    "- Para crear un numero complemento de 4bits debemos usar 4 compuertas not en paralelo\n",
    "- Para solo 2bits debemos usar Half adders concatenados\n",
    "- Para evitar problemas, debemos delimitar el numero de bits\n"
   ]
  },
  {
   "cell_type": "markdown",
   "metadata": {},
   "source": [
    "![](./img/2complement.jpg)"
   ]
  },
  {
   "cell_type": "markdown",
   "metadata": {},
   "source": [
    "### Chequear si un numero esta compuesto por 0s\n",
    "\n",
    "![](./img/Chequear0s.jpg)\n",
    "\n",
    "### Chequear si un numero esta compuesto por 1s\n",
    "\n",
    "![](./img/Chequear1s.jpg)"
   ]
  },
  {
   "cell_type": "markdown",
   "metadata": {},
   "source": [
    "Para la prueba: \n",
    "- Crear los circuitos que propone el ALU\n",
    "- Circuito Right sifht\n"
   ]
  },
  {
   "cell_type": "markdown",
   "metadata": {},
   "source": [
    "Podemos usar una multiplicacion de un bit con una compuerta AND"
   ]
  },
  {
   "cell_type": "markdown",
   "metadata": {},
   "source": [
    "Multiplicación \n",
    "![](./img/Multiplicacion.jpg)"
   ]
  }
 ],
 "metadata": {
  "interpreter": {
   "hash": "63fd5069d213b44bf678585dea6b12cceca9941eaf7f819626cde1f2670de90d"
  },
  "kernelspec": {
   "display_name": "Python 3.9.6 64-bit",
   "language": "python",
   "name": "python3"
  },
  "language_info": {
   "codemirror_mode": {
    "name": "ipython",
    "version": 3
   },
   "file_extension": ".py",
   "mimetype": "text/x-python",
   "name": "python",
   "nbconvert_exporter": "python",
   "pygments_lexer": "ipython3",
   "version": "3.9.6"
  },
  "orig_nbformat": 4
 },
 "nbformat": 4,
 "nbformat_minor": 2
}
