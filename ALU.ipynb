{
 "cells": [
  {
   "cell_type": "code",
   "execution_count": 2,
   "id": "2bc125dd",
   "metadata": {},
   "outputs": [],
   "source": [
    "class Connector :\n",
    "    def __init__(self, owner, name, activates=0, monitor=0):\n",
    "        self.value = None\n",
    "        self.owner = owner\n",
    "        self.name  = name\n",
    "        self.monitor  = monitor\n",
    "        self.connects = []\n",
    "        self.activates= activates\n",
    "    def connect(self, inputs):\n",
    "        if not isinstance(inputs, list):\n",
    "            inputs = [inputs]\n",
    "        for input in inputs:\n",
    "            self.connects.append(input)\n",
    "    def set(self, value):\n",
    "        if self.value == value:\n",
    "            return      # Ignore if no change\n",
    "        self.value = value\n",
    "        if self.activates:\n",
    "            self.owner.evaluate()\n",
    "        if self.monitor:\n",
    "            print(\"Connector {0}-{1} set to {2}\".format(self.owner.name,\n",
    "                                                        self.name,\n",
    "                                                        self.value))\n",
    "        for con in self.connects:\n",
    "            con.set(value)\n",
    "    "
   ]
  },
  {
   "cell_type": "code",
   "execution_count": 3,
   "id": "69402069",
   "metadata": {},
   "outputs": [],
   "source": [
    "class LC:\n",
    "    # Logic Circuits have names and an evaluation function defined in child\n",
    "    # classes. They will also contain a set of inputs and outputs.\n",
    "    def __init__(self, name):\n",
    "        self.name = name\n",
    "\n",
    "    def evaluate(self):\n",
    "        return"
   ]
  },
  {
   "cell_type": "code",
   "execution_count": 4,
   "id": "25ed0525",
   "metadata": {},
   "outputs": [],
   "source": [
    "class Gate2(LC):         # two input gates. Inputs A and B. Output C.\n",
    "    def __init__(self, name):\n",
    "        LC.__init__(self, name)\n",
    "        self.A = Connector(self, 'A', activates=1)\n",
    "        self.B = Connector(self, 'B', activates=1)\n",
    "        self.C = Connector(self, 'C')"
   ]
  },
  {
   "cell_type": "code",
   "execution_count": 5,
   "id": "3c0ca722",
   "metadata": {},
   "outputs": [],
   "source": [
    "class Xor(Gate2):\n",
    "    def __init__(self, name):\n",
    "        Gate2.__init__(self, name)\n",
    "        self.A1 = And(\"A1\")  # See circuit drawing to follow connections\n",
    "        self.A2 = And(\"A2\")\n",
    "        self.I1 = Not(\"I1\")\n",
    "        self.I2 = Not(\"I2\")\n",
    "        self.O1 = Or(\"O1\")\n",
    "        self.A.connect([self.A1.A, self.I2.A])\n",
    "        self.B.connect([self.I1.A, self.A2.A])\n",
    "        self.I1.B.connect([self.A1.B])\n",
    "        self.I2.B.connect([self.A2.B])\n",
    "        self.A1.C.connect([self.O1.A])\n",
    "        self.A2.C.connect([self.O1.B])\n",
    "        self.O1.C.connect([self.C])"
   ]
  },
  {
   "cell_type": "code",
   "execution_count": 6,
   "id": "80a7366b",
   "metadata": {},
   "outputs": [],
   "source": [
    "class And(Gate2):       # two input AND Gate\n",
    "    def __init__(self, name):\n",
    "        Gate2.__init__(self, name)\n",
    "\n",
    "    def evaluate(self):\n",
    "        self.C.set(self.A.value and self.B.value)\n",
    "\n",
    "\n",
    "class Or(Gate2):         # two input OR gate.\n",
    "    def __init__(self, name):\n",
    "        Gate2.__init__(self, name)\n",
    "\n",
    "    def evaluate(self):\n",
    "        self.C.set(self.A.value or self.B.value)"
   ]
  },
  {
   "cell_type": "code",
   "execution_count": 7,
   "id": "5bf2e519",
   "metadata": {},
   "outputs": [],
   "source": [
    "class Not(LC):         # Inverter. Input A. Output B.\n",
    "    def __init__(self, name):\n",
    "        LC.__init__(self, name)\n",
    "        self.A = Connector(self, 'A', activates=1)\n",
    "        self.B = Connector(self, 'B')\n",
    "\n",
    "    def evaluate(self):\n",
    "        self.B.set(not self.A.value)"
   ]
  },
  {
   "cell_type": "code",
   "execution_count": null,
   "id": "ec1ff1de",
   "metadata": {},
   "outputs": [],
   "source": []
  },
  {
   "cell_type": "code",
   "execution_count": null,
   "id": "191118a6",
   "metadata": {},
   "outputs": [],
   "source": []
  },
  {
   "cell_type": "code",
   "execution_count": null,
   "id": "c3ca7e3c",
   "metadata": {},
   "outputs": [],
   "source": []
  },
  {
   "cell_type": "code",
   "execution_count": 8,
   "id": "4ce00ee0",
   "metadata": {},
   "outputs": [],
   "source": [
    "class HalfAdder(LC):         # One bit adder, A,B in. Sum and Carry out\n",
    "    def __init__(self, name):\n",
    "        LC.__init__(self, name)\n",
    "        self.A = Connector(self, 'A', 1)\n",
    "        self.B = Connector(self, 'B', 1)\n",
    "        self.S = Connector(self, 'S')\n",
    "        self.C = Connector(self, 'C')\n",
    "        self.X1 = Xor(\"X1\")\n",
    "        self.A1 = And(\"A1\")\n",
    "        self.A.connect([self.X1.A, self.A1.A])\n",
    "        self.B.connect([self.X1.B, self.A1.B])\n",
    "        self.X1.C.connect([self.S])\n",
    "        self.A1.C.connect([self.C])"
   ]
  },
  {
   "cell_type": "code",
   "execution_count": 9,
   "id": "ce5e38fd",
   "metadata": {},
   "outputs": [],
   "source": [
    "class FullAdder(LC):         # One bit adder, A,B,Cin in. Sum and Cout out\n",
    "    def __init__(self, name):\n",
    "        LC.__init__(self, name)\n",
    "        self.A = Connector(self, 'A', 1, monitor=1)\n",
    "        self.B = Connector(self, 'B', 1, monitor=1)\n",
    "        self.Cin = Connector(self, 'Cin', 1, monitor=1)\n",
    "        self.S = Connector(self, 'S', monitor=1)\n",
    "        self.Cout = Connector(self, 'Cout', monitor=1)\n",
    "        self.H1 = HalfAdder(\"H1\")\n",
    "        self.H2 = HalfAdder(\"H2\")\n",
    "        self.O1 = Or(\"O1\")\n",
    "        self.A.connect([self.H1.A])\n",
    "        self.B.connect([self.H1.B])\n",
    "        self.Cin.connect([self.H2.A])\n",
    "        self.H1.S.connect([self.H2.B])\n",
    "        self.H1.C.connect([self.O1.B])\n",
    "        self.H2.C.connect([self.O1.A])\n",
    "        self.H2.S.connect([self.S])\n",
    "        self.O1.C.connect([self.Cout])"
   ]
  },
  {
   "cell_type": "code",
   "execution_count": 10,
   "id": "e5b959bf",
   "metadata": {},
   "outputs": [],
   "source": [
    "def test4Bit(a, b):  \n",
    "    F0 = FullAdder(\"F0\")\n",
    "    F1 = FullAdder(\"F1\")\n",
    "    F0.Cout.connect(F1.Cin)\n",
    "    F2 = FullAdder(\"F2\")\n",
    "    F1.Cout.connect(F2.Cin)\n",
    "    F3 = FullAdder(\"F3\")\n",
    "    F2.Cout.connect(F3.Cin)\n",
    "    F4 = FullAdder(\"F4\")\n",
    "    F3.Cout.connect(F4.Cin)\n",
    "    F5 = FullAdder(\"F5\")\n",
    "    F4.Cout.connect(F5.Cin)\n",
    "    F6 = FullAdder(\"F6\")\n",
    "    F5.Cout.connect(F6.Cin)\n",
    "    F7 = FullAdder(\"F7\")\n",
    "    F6.Cout.connect(F7.Cin)\n",
    "    \n",
    "\n",
    "    F0.Cin.set(0)\n",
    "    F0.A.set(bit(a, 7))\n",
    "    F0.B.set(bit(b, 7)) \n",
    "    F1.A.set(bit(a, 6))\n",
    "    F1.B.set(bit(b, 6))\n",
    "    F2.A.set(bit(a, 5))\n",
    "    F2.B.set(bit(b, 5))\n",
    "    F3.A.set(bit(a, 4))\n",
    "    F3.B.set(bit(b, 4))\n",
    "    F4.A.set(bit(a, 3))\n",
    "    F4.B.set(bit(b, 3))\n",
    "    F5.A.set(bit(a, 2))\n",
    "    F5.B.set(bit(b, 2))\n",
    "    F6.A.set(bit(a, 1))\n",
    "    F6.B.set(bit(b, 1))\n",
    "    F7.A.set(bit(a, 0))\n",
    "    F7.B.set(bit(b, 0))\n",
    "    \n",
    "    print(\"{0} {1} {2} {3} {4} {5} {6} {7} {8}\".format(F7.Cout.value, F7.S.value,F6.S.value,F5.S.value,\n",
    "                                   F4.S.value,F3.S.value,F2.S.value,F1.S.value,F0.S.value))"
   ]
  },
  {
   "cell_type": "code",
   "execution_count": 11,
   "id": "0d8d4df3",
   "metadata": {},
   "outputs": [],
   "source": [
    "def bit(x, bit):\n",
    "    return x[bit] == '1'"
   ]
  },
  {
   "cell_type": "code",
   "execution_count": 12,
   "id": "86e2e34c",
   "metadata": {},
   "outputs": [
    {
     "name": "stdout",
     "output_type": "stream",
     "text": [
      "Connector F0-Cin set to 0\n",
      "Connector F0-A set to False\n",
      "Connector F0-Cout set to False\n",
      "Connector F1-Cin set to False\n",
      "Connector F0-B set to False\n",
      "Connector F0-S set to False\n",
      "Connector F1-A set to False\n",
      "Connector F1-Cout set to False\n",
      "Connector F2-Cin set to False\n",
      "Connector F1-B set to False\n",
      "Connector F1-S set to False\n",
      "Connector F2-A set to False\n",
      "Connector F2-Cout set to False\n",
      "Connector F3-Cin set to False\n",
      "Connector F2-B set to False\n",
      "Connector F2-S set to False\n",
      "Connector F3-A set to False\n",
      "Connector F3-Cout set to False\n",
      "Connector F4-Cin set to False\n",
      "Connector F3-B set to True\n",
      "Connector F3-S set to True\n",
      "Connector F4-A set to False\n",
      "Connector F4-Cout set to False\n",
      "Connector F5-Cin set to False\n",
      "Connector F4-B set to False\n",
      "Connector F4-S set to False\n",
      "Connector F5-A set to False\n",
      "Connector F5-Cout set to False\n",
      "Connector F6-Cin set to False\n",
      "Connector F5-B set to True\n",
      "Connector F5-S set to True\n",
      "Connector F6-A set to True\n",
      "Connector F6-B set to False\n",
      "Connector F6-S set to True\n",
      "Connector F6-Cout set to False\n",
      "Connector F7-Cin set to False\n",
      "Connector F7-A set to True\n",
      "Connector F7-B set to True\n",
      "Connector F7-S set to False\n",
      "Connector F7-Cout set to True\n",
      "True False True True False True False False False\n"
     ]
    }
   ],
   "source": [
    "test4Bit('11000000','10101000')"
   ]
  },
  {
   "cell_type": "code",
   "execution_count": 13,
   "id": "fa48e313",
   "metadata": {},
   "outputs": [
    {
     "ename": "SyntaxError",
     "evalue": "invalid syntax (Temp/ipykernel_17788/3619488716.py, line 1)",
     "output_type": "error",
     "traceback": [
      "\u001b[1;36m  File \u001b[1;32m\"C:\\Users\\HPGAMI~1\\AppData\\Local\\Temp/ipykernel_17788/3619488716.py\"\u001b[1;36m, line \u001b[1;32m1\u001b[0m\n\u001b[1;33m    1 0 1 1 0 1 0 0 0\u001b[0m\n\u001b[1;37m      ^\u001b[0m\n\u001b[1;31mSyntaxError\u001b[0m\u001b[1;31m:\u001b[0m invalid syntax\n"
     ]
    }
   ],
   "source": [
    "1 0 1 1 0 1 0 0 0"
   ]
  },
  {
   "cell_type": "code",
   "execution_count": 14,
   "id": "acaa4279",
   "metadata": {},
   "outputs": [],
   "source": [
    "def increment(a, b):\n",
    "    \n",
    "   \n",
    "    \n",
    "    F0 = FullAdder(And(\"F0\"))\n",
    "    F1 = FullAdder(And(\"F1\"))\n",
    "    F0.Cout.connect(F1.Cin)\n",
    "    F2 = FullAdder(And(\"F2\"))\n",
    "    F1.Cout.connect(F2.Cin)\n",
    "    F3 = FullAdder(And(\"F3\"))\n",
    "    F2.Cout.connect(F3.Cin)\n",
    "    F4 = FullAdder(And(\"F4\"))\n",
    "    F3.Cout.connect(F4.Cin)\n",
    "    F5 = FullAdder(And(\"F5\"))\n",
    "    F4.Cout.connect(F5.Cin)\n",
    "    F6 = FullAdder(And(\"F6\"))\n",
    "    F5.Cout.connect(F6.Cin)\n",
    "    F7 = FullAdder(And(\"F7\"))\n",
    "    F6.Cout.connect(F7.Cin)\n",
    "    \n",
    "    \n",
    "    \n",
    "    F0.Cin.set(0)\n",
    "    F0.A.set(bit(a, 7))\n",
    "    F0.B.set(bit(b, 7))\n",
    "    F0.evaluate()\n",
    "    F1.A.set(bit(a, 6))\n",
    "    F1.B.set(bit(b, 6))\n",
    "    F1.evaluate()\n",
    "    F2.A.set(bit(a, 5))\n",
    "    F2.B.set(bit(b, 5))\n",
    "    F2.evaluate()\n",
    "    F3.A.set(bit(a, 4))\n",
    "    F3.B.set(bit(b, 4))\n",
    "    F3.evaluate()\n",
    "    F4.A.set(bit(a, 3))\n",
    "    F4.B.set(bit(b, 3))\n",
    "    F4.evaluate()\n",
    "    F5.A.set(bit(a, 2))\n",
    "    F5.B.set(bit(b, 2))\n",
    "    F5.evaluate()\n",
    "    F6.A.set(bit(a, 1))\n",
    "    F6.B.set(bit(b, 1))\n",
    "    F6.evaluate()\n",
    "    F7.A.set(bit(a, 0))\n",
    "    F7.B.set(bit(b, 0))\n",
    "    F7.evaluate()\n",
    "    \n",
    "    return[F7.Cout.value, F7.S.value,F6.S.value,F5.S.value,\n",
    "                                   F4.S.value,F3.S.value,F2.S.value,F1.S.value,F0.S.value]"
   ]
  },
  {
   "cell_type": "code",
   "execution_count": 15,
   "id": "d0fe0b18",
   "metadata": {},
   "outputs": [
    {
     "name": "stdout",
     "output_type": "stream",
     "text": [
      "Connector <__main__.And object at 0x0000021B72390340>-Cin set to 0\n",
      "Connector <__main__.And object at 0x0000021B72390340>-A set to False\n",
      "Connector <__main__.And object at 0x0000021B72390340>-Cout set to False\n",
      "Connector <__main__.And object at 0x0000021B723BFC10>-Cin set to False\n",
      "Connector <__main__.And object at 0x0000021B72390340>-B set to False\n",
      "Connector <__main__.And object at 0x0000021B72390340>-S set to False\n",
      "Connector <__main__.And object at 0x0000021B723BFC10>-A set to False\n",
      "Connector <__main__.And object at 0x0000021B723BFC10>-Cout set to False\n",
      "Connector <__main__.And object at 0x0000021B723CDD30>-Cin set to False\n",
      "Connector <__main__.And object at 0x0000021B723BFC10>-B set to False\n",
      "Connector <__main__.And object at 0x0000021B723BFC10>-S set to False\n",
      "Connector <__main__.And object at 0x0000021B723CDD30>-A set to False\n",
      "Connector <__main__.And object at 0x0000021B723CDD30>-Cout set to False\n",
      "Connector <__main__.And object at 0x0000021B723BB850>-Cin set to False\n",
      "Connector <__main__.And object at 0x0000021B723CDD30>-B set to False\n",
      "Connector <__main__.And object at 0x0000021B723CDD30>-S set to False\n",
      "Connector <__main__.And object at 0x0000021B723BB850>-A set to False\n",
      "Connector <__main__.And object at 0x0000021B723BB850>-Cout set to False\n",
      "Connector <__main__.And object at 0x0000021B723B6D60>-Cin set to False\n",
      "Connector <__main__.And object at 0x0000021B723BB850>-B set to False\n",
      "Connector <__main__.And object at 0x0000021B723BB850>-S set to False\n",
      "Connector <__main__.And object at 0x0000021B723B6D60>-A set to True\n",
      "Connector <__main__.And object at 0x0000021B723B6D60>-B set to False\n",
      "Connector <__main__.And object at 0x0000021B723B6D60>-S set to True\n",
      "Connector <__main__.And object at 0x0000021B723B6D60>-Cout set to False\n",
      "Connector <__main__.And object at 0x0000021B723D00D0>-Cin set to False\n",
      "Connector <__main__.And object at 0x0000021B723D00D0>-A set to True\n",
      "Connector <__main__.And object at 0x0000021B723D00D0>-B set to False\n",
      "Connector <__main__.And object at 0x0000021B723D00D0>-S set to True\n",
      "Connector <__main__.And object at 0x0000021B723D00D0>-Cout set to False\n",
      "Connector <__main__.And object at 0x0000021B723D41F0>-Cin set to False\n",
      "Connector <__main__.And object at 0x0000021B723D41F0>-A set to True\n",
      "Connector <__main__.And object at 0x0000021B723D41F0>-B set to False\n",
      "Connector <__main__.And object at 0x0000021B723D41F0>-S set to True\n",
      "Connector <__main__.And object at 0x0000021B723D41F0>-Cout set to False\n",
      "Connector <__main__.And object at 0x0000021B723AD6A0>-Cin set to False\n",
      "Connector <__main__.And object at 0x0000021B723AD6A0>-A set to True\n",
      "Connector <__main__.And object at 0x0000021B723AD6A0>-B set to False\n",
      "Connector <__main__.And object at 0x0000021B723AD6A0>-S set to True\n",
      "Connector <__main__.And object at 0x0000021B723AD6A0>-Cout set to False\n"
     ]
    },
    {
     "data": {
      "text/plain": [
       "[False, True, True, True, True, False, False, False, False]"
      ]
     },
     "execution_count": 15,
     "metadata": {},
     "output_type": "execute_result"
    }
   ],
   "source": [
    "increment(\"11110000\",\"00000000\")"
   ]
  },
  {
   "cell_type": "code",
   "execution_count": 16,
   "id": "d0989b3e",
   "metadata": {},
   "outputs": [
    {
     "ename": "SyntaxError",
     "evalue": "invalid syntax (Temp/ipykernel_17788/3407263283.py, line 1)",
     "output_type": "error",
     "traceback": [
      "\u001b[1;36m  File \u001b[1;32m\"C:\\Users\\HPGAMI~1\\AppData\\Local\\Temp/ipykernel_17788/3407263283.py\"\u001b[1;36m, line \u001b[1;32m1\u001b[0m\n\u001b[1;33m    1 1 1 1 0 0 0 0\u001b[0m\n\u001b[1;37m      ^\u001b[0m\n\u001b[1;31mSyntaxError\u001b[0m\u001b[1;31m:\u001b[0m invalid syntax\n"
     ]
    }
   ],
   "source": [
    "1 1 1 1 0 0 0 0"
   ]
  },
  {
   "cell_type": "code",
   "execution_count": 17,
   "id": "06cfeea2",
   "metadata": {},
   "outputs": [],
   "source": [
    "def complementOne(a):\n",
    "    F0 = Not(\"F0\")\n",
    "    F1 = Not(\"F1\")\n",
    "    F3 = Not(\"F3\")\n",
    "    F2 = Not(\"F2\")\n",
    "    F4 = Not(\"F4\")\n",
    "    F5 = Not(\"F5\")\n",
    "    F6 = Not(\"F6\")\n",
    "    F7 = Not(\"F7\")\n",
    "\n",
    "\n",
    "    F0.A.set(bit(a,7))\n",
    "    F0.evaluate()\n",
    "    F1.A.set(bit(a,6))\n",
    "    F1.evaluate()\n",
    "    F2.A.set(bit(a,5))\n",
    "    F2.evaluate()\n",
    "    F3.A.set(bit(a,4))\n",
    "    F3.evaluate()\n",
    "    F4.A.set(bit(a,3))\n",
    "    F4.evaluate()\n",
    "    F5.A.set(bit(a,2))\n",
    "    F5.evaluate()\n",
    "    F6.A.set(bit(a,1))\n",
    "    F6.evaluate()\n",
    "    F7.A.set(bit(a,0))\n",
    "    F7.evaluate()\n",
    "    \n",
    "    return [F7.B.value, F6.B.value,F5.B.value,\n",
    "                                   F4.B.value,F3.B.value,F2.B.value,F1.B.value,F0.B.value]"
   ]
  },
  {
   "cell_type": "code",
   "execution_count": 22,
   "id": "ce0d1aaa",
   "metadata": {},
   "outputs": [],
   "source": [
    "def decrement(a):\n",
    "    \n",
    "    a = complementOne(a)\n",
    "    b = []\n",
    "    for j in a:\n",
    "        if(j == False):\n",
    "            i = 0\n",
    "            b.append(i)\n",
    "        else:\n",
    "            i = 1\n",
    "            b.append(i)\n",
    "\n",
    "    texto = \"\".join([str(_) for _ in b])\n",
    "    c = complementOne(texto)\n",
    "    return c\n",
    "            \n",
    "   "
   ]
  },
  {
   "cell_type": "code",
   "execution_count": 23,
   "id": "a7d1dfca",
   "metadata": {},
   "outputs": [
    {
     "data": {
      "text/plain": [
       "[True, True, True, True, False, False, False, False]"
      ]
     },
     "execution_count": 23,
     "metadata": {},
     "output_type": "execute_result"
    }
   ],
   "source": [
    "decrement(\"11110000\")"
   ]
  },
  {
   "cell_type": "code",
   "execution_count": 20,
   "id": "05771055",
   "metadata": {},
   "outputs": [
    {
     "ename": "SyntaxError",
     "evalue": "invalid syntax (Temp/ipykernel_17788/3407263283.py, line 1)",
     "output_type": "error",
     "traceback": [
      "\u001b[1;36m  File \u001b[1;32m\"C:\\Users\\HPGAMI~1\\AppData\\Local\\Temp/ipykernel_17788/3407263283.py\"\u001b[1;36m, line \u001b[1;32m1\u001b[0m\n\u001b[1;33m    1 1 1 1 0 0 0 0\u001b[0m\n\u001b[1;37m      ^\u001b[0m\n\u001b[1;31mSyntaxError\u001b[0m\u001b[1;31m:\u001b[0m invalid syntax\n"
     ]
    }
   ],
   "source": [
    "1 1 1 1 0 0 0 0"
   ]
  },
  {
   "cell_type": "code",
   "execution_count": 24,
   "id": "b11bc564",
   "metadata": {},
   "outputs": [
    {
     "name": "stderr",
     "output_type": "stream",
     "text": [
      "testDecrrement (__main__.TestInDecrement) ... ok\n",
      "testIncrement (__main__.TestInDecrement) ... "
     ]
    },
    {
     "name": "stdout",
     "output_type": "stream",
     "text": [
      "Connector <__main__.And object at 0x0000021B723F9FA0>-Cin set to 0\n",
      "Connector <__main__.And object at 0x0000021B723F9FA0>-A set to False\n",
      "Connector <__main__.And object at 0x0000021B723F9FA0>-Cout set to False\n",
      "Connector <__main__.And object at 0x0000021B72354520>-Cin set to False\n",
      "Connector <__main__.And object at 0x0000021B723F9FA0>-B set to False\n",
      "Connector <__main__.And object at 0x0000021B723F9FA0>-S set to False\n",
      "Connector <__main__.And object at 0x0000021B72354520>-A set to False\n",
      "Connector <__main__.And object at 0x0000021B72354520>-Cout set to False\n",
      "Connector <__main__.And object at 0x0000021B723EFBB0>-Cin set to False\n",
      "Connector <__main__.And object at 0x0000021B72354520>-B set to False\n",
      "Connector <__main__.And object at 0x0000021B72354520>-S set to False\n",
      "Connector <__main__.And object at 0x0000021B723EFBB0>-A set to False\n",
      "Connector <__main__.And object at 0x0000021B723EFBB0>-Cout set to False\n",
      "Connector <__main__.And object at 0x0000021B723FEFD0>-Cin set to False\n",
      "Connector <__main__.And object at 0x0000021B723EFBB0>-B set to False\n",
      "Connector <__main__.And object at 0x0000021B723EFBB0>-S set to False\n",
      "Connector <__main__.And object at 0x0000021B723FEFD0>-A set to False\n",
      "Connector <__main__.And object at 0x0000021B723FEFD0>-Cout set to False\n",
      "Connector <__main__.And object at 0x0000021B72408130>-Cin set to False\n",
      "Connector <__main__.And object at 0x0000021B723FEFD0>-B set to False\n",
      "Connector <__main__.And object at 0x0000021B723FEFD0>-S set to False\n",
      "Connector <__main__.And object at 0x0000021B72408130>-A set to True\n",
      "Connector <__main__.And object at 0x0000021B72408130>-B set to False\n",
      "Connector <__main__.And object at 0x0000021B72408130>-S set to True\n",
      "Connector <__main__.And object at 0x0000021B72408130>-Cout set to False\n",
      "Connector <__main__.And object at 0x0000021B7240D250>-Cin set to False\n",
      "Connector <__main__.And object at 0x0000021B7240D250>-A set to True\n",
      "Connector <__main__.And object at 0x0000021B7240D250>-B set to False\n",
      "Connector <__main__.And object at 0x0000021B7240D250>-S set to True\n",
      "Connector <__main__.And object at 0x0000021B7240D250>-Cout set to False\n",
      "Connector <__main__.And object at 0x0000021B72412370>-Cin set to False\n",
      "Connector <__main__.And object at 0x0000021B72412370>-A set to True\n",
      "Connector <__main__.And object at 0x0000021B72412370>-B set to False\n",
      "Connector <__main__.And object at 0x0000021B72412370>-S set to True\n",
      "Connector <__main__.And object at 0x0000021B72412370>-Cout set to False\n",
      "Connector <__main__.And object at 0x0000021B72416490>-Cin set to False\n",
      "Connector <__main__.And object at 0x0000021B72416490>-A set to True\n",
      "Connector <__main__.And object at 0x0000021B72416490>-B set to False\n",
      "Connector <__main__.And object at 0x0000021B72416490>-S set to True\n",
      "Connector <__main__.And object at 0x0000021B72416490>-Cout set to False\n"
     ]
    },
    {
     "name": "stderr",
     "output_type": "stream",
     "text": [
      "ok\n",
      "\n",
      "----------------------------------------------------------------------\n",
      "Ran 2 tests in 0.004s\n",
      "\n",
      "OK\n"
     ]
    },
    {
     "data": {
      "text/plain": [
       "<unittest.main.TestProgram at 0x21b723a3d00>"
      ]
     },
     "execution_count": 24,
     "metadata": {},
     "output_type": "execute_result"
    }
   ],
   "source": [
    "import unittest\n",
    "class TestInDecrement(unittest.TestCase):\n",
    "\n",
    "    def testIncrement(self):\n",
    "        self.assertEqual(increment(\"11110000\",\"00000000\"),[False, True, True, True, True, False, False, False, False]), \"Should be False True True True True False False False False\"\n",
    "    def testDecrrement(self):\n",
    "        self.assertEqual(decrement(\"11110000\"),[True, True, True, True, False, False, False, False]), \"Should be True True True True False False False False\"\n",
    "    \n",
    "\n",
    "unittest.main(argv=[''], verbosity=2, exit=False)"
   ]
  },
  {
   "cell_type": "code",
   "execution_count": null,
   "id": "cef040e6",
   "metadata": {},
   "outputs": [],
   "source": []
  }
 ],
 "metadata": {
  "kernelspec": {
   "display_name": "Python 3 (ipykernel)",
   "language": "python",
   "name": "python3"
  },
  "language_info": {
   "codemirror_mode": {
    "name": "ipython",
    "version": 3
   },
   "file_extension": ".py",
   "mimetype": "text/x-python",
   "name": "python",
   "nbconvert_exporter": "python",
   "pygments_lexer": "ipython3",
   "version": "3.9.7"
  }
 },
 "nbformat": 4,
 "nbformat_minor": 5
}
