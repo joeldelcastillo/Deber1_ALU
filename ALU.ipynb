{
 "cells": [
  {
   "cell_type": "code",
   "execution_count": 95,
   "id": "2bc125dd",
   "metadata": {},
   "outputs": [],
   "source": [
    "class Connector :\n",
    "    def __init__(self, owner, name, activates=0, monitor=0):\n",
    "        self.value = None\n",
    "        self.owner = owner\n",
    "        self.name  = name\n",
    "        self.monitor  = monitor\n",
    "        self.connects = []\n",
    "        self.activates= activates\n",
    "    def connect(self, inputs):\n",
    "        if not isinstance(inputs, list):\n",
    "            inputs = [inputs]\n",
    "        for input in inputs:\n",
    "            self.connects.append(input)\n",
    "    def set(self, value):\n",
    "        if self.value == value:\n",
    "            return      # Ignore if no change\n",
    "        self.value = value\n",
    "        if self.activates:\n",
    "            self.owner.evaluate()\n",
    "        for con in self.connects:\n",
    "            con.set(value)\n",
    "    "
   ]
  },
  {
   "cell_type": "code",
   "execution_count": 96,
   "id": "69402069",
   "metadata": {},
   "outputs": [],
   "source": [
    "class LC:\n",
    "    # Logic Circuits have names and an evaluation function defined in child\n",
    "    # classes. They will also contain a set of inputs and outputs.\n",
    "    def __init__(self, name):\n",
    "        self.name = name\n",
    "\n",
    "    def evaluate(self):\n",
    "        return"
   ]
  },
  {
   "cell_type": "code",
   "execution_count": 97,
   "id": "25ed0525",
   "metadata": {},
   "outputs": [],
   "source": [
    "class Gate2(LC):         # two input gates. Inputs A and B. Output C.\n",
    "    def __init__(self, name):\n",
    "        LC.__init__(self, name)\n",
    "        self.A = Connector(self, 'A', activates=1)\n",
    "        self.B = Connector(self, 'B', activates=1)\n",
    "        self.C = Connector(self, 'C')"
   ]
  },
  {
   "cell_type": "code",
   "execution_count": 98,
   "id": "3c0ca722",
   "metadata": {},
   "outputs": [],
   "source": [
    "class Xor(Gate2):\n",
    "    def __init__(self, name):\n",
    "        Gate2.__init__(self, name)\n",
    "        self.A1 = And(\"A1\")  # See circuit drawing to follow connections\n",
    "        self.A2 = And(\"A2\")\n",
    "        self.I1 = Not(\"I1\")\n",
    "        self.I2 = Not(\"I2\")\n",
    "        self.O1 = Or(\"O1\")\n",
    "        self.A.connect([self.A1.A, self.I2.A])\n",
    "        self.B.connect([self.I1.A, self.A2.A])\n",
    "        self.I1.B.connect([self.A1.B])\n",
    "        self.I2.B.connect([self.A2.B])\n",
    "        self.A1.C.connect([self.O1.A])\n",
    "        self.A2.C.connect([self.O1.B])\n",
    "        self.O1.C.connect([self.C])"
   ]
  },
  {
   "cell_type": "code",
   "execution_count": 99,
   "id": "80a7366b",
   "metadata": {},
   "outputs": [],
   "source": [
    "class And(Gate2):       # two input AND Gate\n",
    "    def __init__(self, name):\n",
    "        Gate2.__init__(self, name)\n",
    "\n",
    "    def evaluate(self):\n",
    "        self.C.set(self.A.value and self.B.value)\n",
    "\n",
    "\n",
    "class Or(Gate2):         # two input OR gate.\n",
    "    def __init__(self, name):\n",
    "        Gate2.__init__(self, name)\n",
    "\n",
    "    def evaluate(self):\n",
    "        self.C.set(self.A.value or self.B.value)"
   ]
  },
  {
   "cell_type": "code",
   "execution_count": 100,
   "id": "5bf2e519",
   "metadata": {},
   "outputs": [],
   "source": [
    "class Not(LC):         # Inverter. Input A. Output B.\n",
    "    def __init__(self, name):\n",
    "        LC.__init__(self, name)\n",
    "        self.A = Connector(self, 'A', activates=1)\n",
    "        self.B = Connector(self, 'B')\n",
    "\n",
    "    def evaluate(self):\n",
    "        self.B.set(not self.A.value)"
   ]
  },
  {
   "cell_type": "code",
   "execution_count": null,
   "id": "ec1ff1de",
   "metadata": {},
   "outputs": [],
   "source": []
  },
  {
   "cell_type": "code",
   "execution_count": null,
   "id": "191118a6",
   "metadata": {},
   "outputs": [],
   "source": []
  },
  {
   "cell_type": "code",
   "execution_count": null,
   "id": "c3ca7e3c",
   "metadata": {},
   "outputs": [],
   "source": []
  },
  {
   "cell_type": "code",
   "execution_count": 101,
   "id": "4ce00ee0",
   "metadata": {},
   "outputs": [],
   "source": [
    "class HalfAdder(LC):         # One bit adder, A,B in. Sum and Carry out\n",
    "    def __init__(self, name):\n",
    "        LC.__init__(self, name)\n",
    "        self.A = Connector(self, 'A', 1)\n",
    "        self.B = Connector(self, 'B', 1)\n",
    "        self.S = Connector(self, 'S')\n",
    "        self.C = Connector(self, 'C')\n",
    "        self.X1 = Xor(\"X1\")\n",
    "        self.A1 = And(\"A1\")\n",
    "        self.A.connect([self.X1.A, self.A1.A])\n",
    "        self.B.connect([self.X1.B, self.A1.B])\n",
    "        self.X1.C.connect([self.S])\n",
    "        self.A1.C.connect([self.C])"
   ]
  },
  {
   "cell_type": "code",
   "execution_count": 102,
   "id": "ce5e38fd",
   "metadata": {},
   "outputs": [],
   "source": [
    "class FullAdder(LC):         # One bit adder, A,B,Cin in. Sum and Cout out\n",
    "    def __init__(self, name):\n",
    "        LC.__init__(self, name)\n",
    "        self.A = Connector(self, 'A', 1, monitor=1)\n",
    "        self.B = Connector(self, 'B', 1, monitor=1)\n",
    "        self.Cin = Connector(self, 'Cin', 1, monitor=1)\n",
    "        self.S = Connector(self, 'S', monitor=1)\n",
    "        self.Cout = Connector(self, 'Cout', monitor=1)\n",
    "        self.H1 = HalfAdder(\"H1\")\n",
    "        self.H2 = HalfAdder(\"H2\")\n",
    "        self.O1 = Or(\"O1\")\n",
    "        self.A.connect([self.H1.A])\n",
    "        self.B.connect([self.H1.B])\n",
    "        self.Cin.connect([self.H2.A])\n",
    "        self.H1.S.connect([self.H2.B])\n",
    "        self.H1.C.connect([self.O1.B])\n",
    "        self.H2.C.connect([self.O1.A])\n",
    "        self.H2.S.connect([self.S])\n",
    "        self.O1.C.connect([self.Cout])"
   ]
  },
  {
   "cell_type": "code",
   "execution_count": 103,
   "id": "081e93a4",
   "metadata": {},
   "outputs": [],
   "source": [
    "class ALU():\n",
    "    def __init__(self, zeroFlag, overflowFlag, negativeFlag):\n",
    "        self.zeroFlag = zeroFlag\n",
    "        self.overflowFlag  = overflowFlag\n",
    "        self.negativeFlag= negativeFlag\n",
    "    "
   ]
  },
  {
   "cell_type": "code",
   "execution_count": 104,
   "id": "e5b959bf",
   "metadata": {},
   "outputs": [],
   "source": [
    "def test8Bit(a, b):  \n",
    "    F0 = FullAdder(\"F0\")\n",
    "    F1 = FullAdder(\"F1\")\n",
    "    F0.Cout.connect(F1.Cin)\n",
    "    F2 = FullAdder(\"F2\")\n",
    "    F1.Cout.connect(F2.Cin)\n",
    "    F3 = FullAdder(\"F3\")\n",
    "    F2.Cout.connect(F3.Cin)\n",
    "    F4 = FullAdder(\"F4\")\n",
    "    F3.Cout.connect(F4.Cin)\n",
    "    F5 = FullAdder(\"F5\")\n",
    "    F4.Cout.connect(F5.Cin)\n",
    "    F6 = FullAdder(\"F6\")\n",
    "    F5.Cout.connect(F6.Cin)\n",
    "    F7 = FullAdder(\"F7\")\n",
    "    F6.Cout.connect(F7.Cin)\n",
    "        \n",
    "    F0.Cin.set(0)\n",
    "    F0.A.set(bit(a, 7))\n",
    "    F0.B.set(bit(b, 7)) \n",
    "    F1.A.set(bit(a, 6))\n",
    "    F1.B.set(bit(b, 6))\n",
    "    F2.A.set(bit(a, 5))\n",
    "    F2.B.set(bit(b, 5))\n",
    "    F3.A.set(bit(a, 4))\n",
    "    F3.B.set(bit(b, 4))\n",
    "    F4.A.set(bit(a, 3))\n",
    "    F4.B.set(bit(b, 3))\n",
    "    F5.A.set(bit(a, 2))\n",
    "    F5.B.set(bit(b, 2))\n",
    "    F6.A.set(bit(a, 1))\n",
    "    F6.B.set(bit(b, 1))\n",
    "    F7.A.set(bit(a, 0))\n",
    "    F7.B.set(bit(b, 0))\n",
    "    \n",
    "    \n",
    "    return [F7.Cout.value, F7.S.value,F6.S.value,F5.S.value,\n",
    "                                   F4.S.value,F3.S.value,F2.S.value,F1.S.value,F0.S.value]"
   ]
  },
  {
   "cell_type": "code",
   "execution_count": 105,
   "id": "0d8d4df3",
   "metadata": {},
   "outputs": [],
   "source": [
    "def bit(x, bit):\n",
    "    return x[bit] == '1'"
   ]
  },
  {
   "cell_type": "code",
   "execution_count": 106,
   "id": "1cfd2531",
   "metadata": {},
   "outputs": [],
   "source": [
    "def isZero(a):\n",
    "    Out = Not(\"Out\")\n",
    "    def isSimpleZero(a):\n",
    "        if len(a) == 2:\n",
    "            F0 = Or(\"F0\")\n",
    "            F0.A.set(bit(a, 0))\n",
    "            F0.B.set(bit(a, 1))\n",
    "            return F0.C.value\n",
    "        else:\n",
    "            F1 = Or(\"F1\")\n",
    "            left = isSimpleZero(a[0:int(len(a)/2)])\n",
    "            right = isSimpleZero(a[int(len(a)/2):int(len(a))])\n",
    "            F1.A.set(left)\n",
    "            F1.B.set(right)\n",
    "            print(left, right)\n",
    "            return (F1.C.value)\n",
    "            \n",
    "    Out.A.set(isSimpleZero(a))\n",
    "    Out.evaluate()\n",
    "    return Out.B.value\n",
    "\n"
   ]
  },
  {
   "cell_type": "code",
   "execution_count": 111,
   "id": "993cc58b",
   "metadata": {},
   "outputs": [
    {
     "name": "stdout",
     "output_type": "stream",
     "text": [
      "False False\n",
      "False False\n",
      "False False\n"
     ]
    },
    {
     "data": {
      "text/plain": [
       "True"
      ]
     },
     "execution_count": 111,
     "metadata": {},
     "output_type": "execute_result"
    }
   ],
   "source": [
    "isZero(\"00000000\")"
   ]
  },
  {
   "cell_type": "code",
   "execution_count": 52,
   "id": "65f4b937",
   "metadata": {},
   "outputs": [],
   "source": [
    "def isZero(a):\n",
    "    F0 = Or(\"F0\")\n",
    "    F1 = Or(\"F1\")\n",
    "    F2 = Or(\"F2\")\n",
    "    F3 = Or(\"F3\")\n",
    "\n",
    "    G0 = Or(\"G6\")\n",
    "    G1 = Or(\"G7\")\n",
    "\n",
    "    H0 = Or(\"G7\")\n",
    "\n",
    "    Cout = Not(\"Salida\")\n",
    "\n",
    "    F0.A.set(bit(a, 7))\n",
    "    F0.B.set(bit(a, 6))\n",
    "\n",
    "    F1.A.set(bit(a, 5))\n",
    "    F1.B.set(bit(a, 4))\n",
    "    \n",
    "    F2.A.set(bit(a, 3))\n",
    "    F2.B.set(bit(a, 2))\n",
    "\n",
    "    F3.A.set(bit(a, 1))\n",
    "    F3.B.set(bit(a, 0))\n",
    "#------------------------------\n",
    "    G0.A.set(F0.C.value)\n",
    "    G0.B.set(F1.C.value)\n",
    "\n",
    "    G1.A.set(F2.C.value)\n",
    "    G1.B.set(F3.C.value)\n",
    "\n",
    "#---------------------------\n",
    "    H0.A.set(G0.C.value)\n",
    "    H0.B.set(G1.C.value)\n",
    "\n",
    "    Cout.A.set(H0.C.value)\n",
    "    Cout.evaluate()\n",
    "\n",
    "    return(Cout.B.value)\n"
   ]
  },
  {
   "cell_type": "code",
   "execution_count": 53,
   "id": "34a892c3",
   "metadata": {},
   "outputs": [
    {
     "data": {
      "text/plain": [
       "True"
      ]
     },
     "execution_count": 53,
     "metadata": {},
     "output_type": "execute_result"
    }
   ],
   "source": [
    "isZero('00000000')"
   ]
  },
  {
   "cell_type": "code",
   "execution_count": 60,
   "id": "e67d74e4",
   "metadata": {},
   "outputs": [],
   "source": [
    "def isNegative(a):\n",
    "    F0 = And(\"F0\")\n",
    "    F0.A.set(bit(a, 0))\n",
    "    F0.B.set(True)\n",
    "    return(F0.C.value)\n"
   ]
  },
  {
   "cell_type": "code",
   "execution_count": 63,
   "id": "134ae54b",
   "metadata": {},
   "outputs": [
    {
     "name": "stdout",
     "output_type": "stream",
     "text": [
      "8\n"
     ]
    },
    {
     "data": {
      "text/plain": [
       "True"
      ]
     },
     "execution_count": 63,
     "metadata": {},
     "output_type": "execute_result"
    }
   ],
   "source": [
    "isNegative(\"10000000\")"
   ]
  },
  {
   "cell_type": "code",
   "execution_count": 12,
   "id": "86e2e34c",
   "metadata": {},
   "outputs": [
    {
     "data": {
      "text/plain": [
       "[True, True, False, False, False, True, True, False, False]"
      ]
     },
     "execution_count": 12,
     "metadata": {},
     "output_type": "execute_result"
    }
   ],
   "source": [
    "test8Bit('11100010','10101010')"
   ]
  },
  {
   "cell_type": "code",
   "execution_count": 34,
   "id": "fa48e313",
   "metadata": {},
   "outputs": [
    {
     "name": "stderr",
     "output_type": "stream",
     "text": [
      "test1 (__main__.Test8Bits) ... ok\n",
      "test2 (__main__.Test8Bits) ... ok\n",
      "\n",
      "----------------------------------------------------------------------\n",
      "Ran 2 tests in 0.005s\n",
      "\n",
      "OK\n"
     ]
    },
    {
     "data": {
      "text/plain": [
       "<unittest.main.TestProgram at 0x1b01b44a9a0>"
      ]
     },
     "execution_count": 34,
     "metadata": {},
     "output_type": "execute_result"
    }
   ],
   "source": [
    "import unittest\n",
    "class Test8Bits(unittest.TestCase):\n",
    "\n",
    "    def test1(self):\n",
    "        self.assertEqual(test8Bit('11000000','10101000'),[True, False, True, True, False, True, False, False, False]), \"Should be True False True True False True False False False\"\n",
    "    def test2(self):\n",
    "        self.assertEqual(test8Bit('11000010','00101010'),[False, True, True, True, False, True, True, False, False]), \"Should be True False True True False True False False False\"\n",
    "    def test3(self):\n",
    "        self.assertEqual(test8Bit('11000010','00101010'),[True, True, False, False, False, True, True, False, False]), \"Should be True False True True False True False False False\"\n",
    "    def test4(self):\n",
    "        self.assertEqual(test8Bit('11000010','00101010'),[True, False, False, False, False, True, True, False, False]), \"Should be True False True True False True False False False\"\n",
    "    def test5(self):\n",
    "        self.assertEqual(test8Bit('01100010','10101011'),[True, False, False, False, False, True, True, False, True]), \"Should be True False True True False True False False False\"\n",
    "        \n",
    "\n",
    "unittest.main(argv=[''], verbosity=2, exit=False)"
   ]
  },
  {
   "cell_type": "code",
   "execution_count": 9,
   "id": "a734582b",
   "metadata": {},
   "outputs": [],
   "source": [
    "\n",
    "\n",
    "def test3(self):\n",
    "    self.assertEqual(cuadratic_function(Array(6, [-9, -8, 0, 1, 8, 9]), 0, -6, -10).arr, [\n",
    "                        -64, -58, -16, -10, 38, 44]), \"Should be [-64, -58, -16, -10, 38, 44]\"\n",
    "\n",
    "def test4(self):\n",
    "    self.assertEqual(cuadratic_function(Array(\n",
    "        7, [0, 0, 0, 0, 0, 0, 1]), 0, 0, -10).arr, [-10, -10, -10, -10, -10, -10, -10]), \"Should be [-10, -10, -10, -10, -10, -10, -10]\"\n",
    "\n",
    "def test5(self):\n",
    "    self.assertEqual(cuadratic_function(Array(6, [-1, 0, 3, 4, 9, 12]), -1/2, -6/7, -10).arr, [-92.28571428571428, -\n",
    "                        58.214285714285715, -21.42857142857143, -17.07142857142857, -10.0, -9.642857142857142]), \"Should be [3,9,15,33]\"\n"
   ]
  },
  {
   "cell_type": "code",
   "execution_count": 10,
   "id": "781bc43b",
   "metadata": {},
   "outputs": [],
   "source": []
  },
  {
   "cell_type": "code",
   "execution_count": 11,
   "id": "d0989b3e",
   "metadata": {},
   "outputs": [],
   "source": []
  },
  {
   "cell_type": "code",
   "execution_count": null,
   "id": "06cfeea2",
   "metadata": {},
   "outputs": [],
   "source": []
  }
 ],
 "metadata": {
  "kernelspec": {
   "display_name": "Python 3",
   "language": "python",
   "name": "python3"
  },
  "language_info": {
   "codemirror_mode": {
    "name": "ipython",
    "version": 3
   },
   "file_extension": ".py",
   "mimetype": "text/x-python",
   "name": "python",
   "nbconvert_exporter": "python",
   "pygments_lexer": "ipython3",
   "version": "3.9.6"
  }
 },
 "nbformat": 4,
 "nbformat_minor": 5
}
