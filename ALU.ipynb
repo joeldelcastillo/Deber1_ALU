{
 "cells": [
  {
   "cell_type": "code",
   "execution_count": 9,
   "metadata": {},
   "outputs": [],
   "source": [
    "from logic import *\n",
    "\n",
    "class ALU():\n",
    "    def __init__(self, name, zeroFlag = 1, overflowFlag = 0, negativeFlag = 0):\n",
    "        self.name = name\n",
    "        self.zeroFlag = zeroFlag\n",
    "        self.overflowFlag  = overflowFlag\n",
    "        self.negativeFlag= negativeFlag\n",
    "\n",
    "    @staticmethod\n",
    "    def toString(byte):\n",
    "        s = \"\"\n",
    "        for bit in byte:\n",
    "            x = str(int(bit))\n",
    "            s += x\n",
    "        return s\n",
    "    \n",
    "    def isZero(self, byte):\n",
    "        Out = Not(\"Out\")\n",
    "        def isSimpleZero(byte):\n",
    "            if len(byte) == 2:\n",
    "                F0 = Or(\"F0\")\n",
    "                F0.A.set(bit(byte, 0))\n",
    "                F0.B.set(bit(byte, 1))\n",
    "                return F0.C.value\n",
    "            else:\n",
    "                F1 = Or(\"F1\")\n",
    "                left = isSimpleZero(byte[0:int(len(byte)/2)])\n",
    "                right = isSimpleZero(byte[int(len(byte)/2):int(len(byte))])\n",
    "                F1.A.set(left)\n",
    "                F1.B.set(right)\n",
    "                # print(left, right)\n",
    "                return (F1.C.value)\n",
    "        Out.A.set(isSimpleZero(byte))\n",
    "        Out.evaluate()\n",
    "        flag = str(int(Out.B.value))\n",
    "        self.zeroFlag = flag\n",
    "        return flag\n",
    "    \n",
    "    def isNegative(self, byte):\n",
    "        F0 = And(\"F0\")\n",
    "        F0.A.set(bit(byte, 0))\n",
    "        F0.B.set(True)\n",
    "        flag = str(int(F0.C.value))\n",
    "        self.negativeFlag = flag\n",
    "        return(flag)\n",
    "    \n"
   ]
  },
  {
   "cell_type": "code",
   "execution_count": 12,
   "metadata": {},
   "outputs": [],
   "source": [
    "import unittest"
   ]
  },
  {
   "cell_type": "code",
   "execution_count": null,
   "metadata": {},
   "outputs": [],
   "source": [
    "class TestIsZero(unittest.TestCase):\n",
    "    test = ALU(\"isZero\")\n",
    "    def test1(self):\n",
    "        self.assertEqual(self.test.isZero('11000000'),'0'), \"Should be False\"\n",
    "    def test2(self):\n",
    "        self.assertEqual(self.test.isZero('01000010'),'0'), \"Should be False\"\n",
    "    def test3(self):\n",
    "        self.assertEqual(self.test.isZero('11000010'), '0'), \"Should be False\"\n",
    "    def test4(self):\n",
    "        self.assertEqual(self.test.isZero('11111111'), '0'), \"Should be False\"\n",
    "    def test5(self):\n",
    "        self.assertEqual(self.test.isZero('00000000'),'1'), \"Should be True\"\n",
    "\n",
    "unittest.main(argv=[''], verbosity=2, exit=False)"
   ]
  },
  {
   "cell_type": "code",
   "execution_count": null,
   "metadata": {},
   "outputs": [],
   "source": [
    "class TestIsNegative(unittest.TestCase):\n",
    "    test = ALU(\"isNegative\")\n",
    "    def test1(self):\n",
    "        self.assertEqual(self.test.isNegative('11000000'),'1'), \"Should be True\"\n",
    "    def test2(self):\n",
    "        self.assertEqual(self.test.isNegative('01000010'),'0'), \"Should be False\"\n",
    "    def test3(self):\n",
    "        self.assertEqual(self.test.isNegative('11000010'), '1'), \"Should be True\"\n",
    "    def test4(self):\n",
    "        self.assertEqual(self.test.isNegative('11111111'), '1'), \"Should be True\"\n",
    "    def test5(self):\n",
    "        self.assertEqual(self.test.isNegative('00000000'),'0'), \"Should be False\"\n",
    "\n",
    "unittest.main(argv=[''], verbosity=2, exit=False)"
   ]
  }
 ],
 "metadata": {
  "interpreter": {
   "hash": "63fd5069d213b44bf678585dea6b12cceca9941eaf7f819626cde1f2670de90d"
  },
  "kernelspec": {
   "display_name": "Python 3.9.6 64-bit",
   "language": "python",
   "name": "python3"
  },
  "language_info": {
   "codemirror_mode": {
    "name": "ipython",
    "version": 3
   },
   "file_extension": ".py",
   "mimetype": "text/x-python",
   "name": "python",
   "nbconvert_exporter": "python",
   "pygments_lexer": "ipython3",
   "version": "3.9.6"
  },
  "orig_nbformat": 4
 },
 "nbformat": 4,
 "nbformat_minor": 2
}
