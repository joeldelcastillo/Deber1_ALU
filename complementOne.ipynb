{
 "cells": [
  {
   "cell_type": "code",
   "execution_count": 532,
   "metadata": {},
   "outputs": [],
   "source": [
    "class Connector :\n",
    "    def __init__(self, owner, name, activates=0, monitor=0):\n",
    "        self.value = None\n",
    "        self.owner = owner\n",
    "        self.name  = name\n",
    "        self.monitor  = monitor\n",
    "        self.connects = []\n",
    "        self.activates= activates\n",
    "    def connect(self, inputs):\n",
    "        if not isinstance(inputs, list):\n",
    "            inputs = [inputs]\n",
    "        for input in inputs:\n",
    "            self.connects.append(input)\n",
    "    def set(self, value):\n",
    "        if self.value == value:\n",
    "            return      # Ignore if no change\n",
    "        self.value = value\n",
    "        if self.activates:\n",
    "            self.owner.evaluate()\n",
    "        for con in self.connects:\n",
    "            con.set(value)\n",
    "    "
   ]
  },
  {
   "cell_type": "code",
   "execution_count": 533,
   "metadata": {},
   "outputs": [],
   "source": [
    "class LC:\n",
    "    # Logic Circuits have names and an evaluation function defined in child\n",
    "    # classes. They will also contain a set of inputs and outputs.\n",
    "    def __init__(self, name):\n",
    "        self.name = name\n",
    "\n",
    "    def evaluate(self):\n",
    "        return"
   ]
  },
  {
   "cell_type": "code",
   "execution_count": 534,
   "metadata": {},
   "outputs": [],
   "source": [
    "class Gate2(LC):         # two input gates. Inputs A and B. Output C.\n",
    "    def __init__(self, name):\n",
    "        LC.__init__(self, name)\n",
    "        self.A = Connector(self, 'A', activates=1)\n",
    "        self.B = Connector(self, 'B', activates=1)\n",
    "        self.C = Connector(self, 'C')"
   ]
  },
  {
   "cell_type": "code",
   "execution_count": 535,
   "metadata": {},
   "outputs": [],
   "source": [
    "class Xor(Gate2):\n",
    "    def __init__(self, name):\n",
    "        Gate2.__init__(self, name)\n",
    "        self.A1 = And(\"A1\")  # See circuit drawing to follow connections\n",
    "        self.A2 = And(\"A2\")\n",
    "        self.I1 = Not(\"I1\")\n",
    "        self.I2 = Not(\"I2\")\n",
    "        self.O1 = Or(\"O1\")\n",
    "        self.A.connect([self.A1.A, self.I2.A])\n",
    "        self.B.connect([self.I1.A, self.A2.A])\n",
    "        self.I1.B.connect([self.A1.B])\n",
    "        self.I2.B.connect([self.A2.B])\n",
    "        self.A1.C.connect([self.O1.A])\n",
    "        self.A2.C.connect([self.O1.B])\n",
    "        self.O1.C.connect([self.C])"
   ]
  },
  {
   "cell_type": "code",
   "execution_count": 536,
   "metadata": {},
   "outputs": [],
   "source": [
    "class And(Gate2):       # two input AND Gate\n",
    "    def __init__(self, name):\n",
    "        Gate2.__init__(self, name)\n",
    "\n",
    "    def evaluate(self):\n",
    "        self.C.set(self.A.value and self.B.value)\n",
    "\n",
    "\n",
    "class Or(Gate2):         # two input OR gate.\n",
    "    def __init__(self, name):\n",
    "        Gate2.__init__(self, name)\n",
    "\n",
    "    def evaluate(self):\n",
    "        self.C.set(self.A.value or self.B.value)"
   ]
  },
  {
   "cell_type": "code",
   "execution_count": 537,
   "metadata": {},
   "outputs": [],
   "source": [
    "class Not(LC):         # Inverter. Input A. Output B.\n",
    "    def __init__(self, name):\n",
    "        LC.__init__(self, name)\n",
    "        self.A = Connector(self, 'A', activates=1)\n",
    "        self.B = Connector(self, 'B')\n",
    "\n",
    "    def evaluate(self):\n",
    "        self.B.set(not self.A.value)"
   ]
  },
  {
   "cell_type": "code",
   "execution_count": 538,
   "metadata": {},
   "outputs": [],
   "source": [
    "class HalfAdder(LC):         # One bit adder, A,B in. Sum and Carry out\n",
    "    def __init__(self, name):\n",
    "        LC.__init__(self, name)\n",
    "        self.A = Connector(self, 'A', 1)\n",
    "        self.B = Connector(self, 'B', 1)\n",
    "        self.S = Connector(self, 'S')\n",
    "        self.C = Connector(self, 'C')\n",
    "        self.X1 = Xor(\"X1\")\n",
    "        self.A1 = And(\"A1\")\n",
    "        self.A.connect([self.X1.A, self.A1.A])\n",
    "        self.B.connect([self.X1.B, self.A1.B])\n",
    "        self.X1.C.connect([self.S])\n",
    "        self.A1.C.connect([self.C])"
   ]
  },
  {
   "cell_type": "code",
   "execution_count": 539,
   "metadata": {},
   "outputs": [],
   "source": [
    "class FullAdder(LC):         # One bit adder, A,B,Cin in. Sum and Cout out\n",
    "    def __init__(self, name):\n",
    "        LC.__init__(self, name)\n",
    "        self.A = Connector(self, 'A', 1, monitor=1)\n",
    "        self.B = Connector(self, 'B', 1, monitor=1)\n",
    "        self.Cin = Connector(self, 'Cin', 1, monitor=1)\n",
    "        self.S = Connector(self, 'S', monitor=1)\n",
    "        self.Cout = Connector(self, 'Cout', monitor=1)\n",
    "        self.H1 = HalfAdder(\"H1\")\n",
    "        self.H2 = HalfAdder(\"H2\")\n",
    "        self.O1 = Or(\"O1\")\n",
    "        self.A.connect([self.H1.A])\n",
    "        self.B.connect([self.H1.B])\n",
    "        self.Cin.connect([self.H2.A])\n",
    "        self.H1.S.connect([self.H2.B])\n",
    "        self.H1.C.connect([self.O1.B])\n",
    "        self.H2.C.connect([self.O1.A])\n",
    "        self.H2.S.connect([self.S])\n",
    "        self.O1.C.connect([self.Cout])"
   ]
  },
  {
   "cell_type": "code",
   "execution_count": 540,
   "metadata": {},
   "outputs": [],
   "source": [
    "def test8Bit(a, b):  \n",
    "    F0 = FullAdder(\"F0\")\n",
    "    F1 = FullAdder(\"F1\")\n",
    "    F0.Cout.connect(F1.Cin)\n",
    "    F2 = FullAdder(\"F2\")\n",
    "    F1.Cout.connect(F2.Cin)\n",
    "    F3 = FullAdder(\"F3\")\n",
    "    F2.Cout.connect(F3.Cin)\n",
    "    F4 = FullAdder(\"F4\")\n",
    "    F3.Cout.connect(F4.Cin)\n",
    "    F5 = FullAdder(\"F5\")\n",
    "    F4.Cout.connect(F5.Cin)\n",
    "    F6 = FullAdder(\"F6\")\n",
    "    F5.Cout.connect(F6.Cin)\n",
    "    F7 = FullAdder(\"F7\")\n",
    "    F6.Cout.connect(F7.Cin)\n",
    "        \n",
    "    F0.Cin.set(0)\n",
    "    F0.A.set(bit(a, 7))\n",
    "    F0.B.set(bit(b, 7)) \n",
    "    F1.A.set(bit(a, 6))\n",
    "    F1.B.set(bit(b, 6))\n",
    "    F2.A.set(bit(a, 5))\n",
    "    F2.B.set(bit(b, 5))\n",
    "    F3.A.set(bit(a, 4))\n",
    "    F3.B.set(bit(b, 4))\n",
    "    F4.A.set(bit(a, 3))\n",
    "    F4.B.set(bit(b, 3))\n",
    "    F5.A.set(bit(a, 2))\n",
    "    F5.B.set(bit(b, 2))\n",
    "    F6.A.set(bit(a, 1))\n",
    "    F6.B.set(bit(b, 1))\n",
    "    F7.A.set(bit(a, 0))\n",
    "    F7.B.set(bit(b, 0))\n",
    "    \n",
    "    \n",
    "    return [F7.Cout.value, F7.S.value,F6.S.value,F5.S.value,\n",
    "                                   F4.S.value,F3.S.value,F2.S.value,F1.S.value,F0.S.value]"
   ]
  },
  {
   "cell_type": "code",
   "execution_count": 541,
   "metadata": {},
   "outputs": [],
   "source": [
    "def bit(x, bit):\n",
    "    return x[bit] == '1'"
   ]
  },
  {
   "cell_type": "code",
   "execution_count": 542,
   "metadata": {},
   "outputs": [],
   "source": [
    "def complementOne(a):\n",
    "    F0 = Not(\"F0\")\n",
    "    F1 = Not(\"F1\")\n",
    "    F3 = Not(\"F3\")\n",
    "    F2 = Not(\"F2\")\n",
    "    F4 = Not(\"F4\")\n",
    "    F5 = Not(\"F5\")\n",
    "    F6 = Not(\"F6\")\n",
    "    F7 = Not(\"F7\")\n",
    "\n",
    "\n",
    "    F0.A.set(bit(a,7))\n",
    "    F0.evaluate()\n",
    "    F1.A.set(bit(a,6))\n",
    "    F1.evaluate()\n",
    "    F2.A.set(bit(a,5))\n",
    "    F2.evaluate()\n",
    "    F3.A.set(bit(a,4))\n",
    "    F3.evaluate()\n",
    "    F4.A.set(bit(a,3))\n",
    "    F4.evaluate()\n",
    "    F5.A.set(bit(a,2))\n",
    "    F5.evaluate()\n",
    "    F6.A.set(bit(a,1))\n",
    "    F6.evaluate()\n",
    "    F7.A.set(bit(a,0))\n",
    "    F7.evaluate()\n",
    "    \n",
    "    return [F7.B.value, F6.B.value,F5.B.value,\n",
    "                                   F4.B.value,F3.B.value,F2.B.value,F1.B.value,F0.B.value]\n",
    "\n",
    "\n"
   ]
  },
  {
   "cell_type": "code",
   "execution_count": 543,
   "metadata": {},
   "outputs": [
    {
     "data": {
      "text/plain": [
       "[False, False, False, False, False, False, True, True]"
      ]
     },
     "execution_count": 543,
     "metadata": {},
     "output_type": "execute_result"
    }
   ],
   "source": [
    "complementOne(\"11111100\")"
   ]
  },
  {
   "cell_type": "code",
   "execution_count": 544,
   "metadata": {},
   "outputs": [],
   "source": [
    "def increment(a, b):\n",
    "    F0 = FullAdder(And(\"F0\"))\n",
    "    F1 = FullAdder(And(\"F1\"))\n",
    "    F0.Cout.connect(F1.Cin)\n",
    "    F2 = FullAdder(And(\"F2\"))\n",
    "    F1.Cout.connect(F2.Cin)\n",
    "    F3 = FullAdder(And(\"F3\"))\n",
    "    F2.Cout.connect(F3.Cin)\n",
    "    F4 = FullAdder(And(\"F4\"))\n",
    "    F3.Cout.connect(F4.Cin)\n",
    "    F5 = FullAdder(And(\"F5\"))\n",
    "    F4.Cout.connect(F5.Cin)\n",
    "    F6 = FullAdder(And(\"F6\"))\n",
    "    F5.Cout.connect(F6.Cin)\n",
    "    F7 = FullAdder(And(\"F7\"))\n",
    "    F6.Cout.connect(F7.Cin)\n",
    "    \n",
    "    \n",
    "    \n",
    "    F0.Cin.set(0)\n",
    "    F0.A.set(bit(a, 7))\n",
    "    F0.B.set(bit(b, 7))\n",
    "    F0.evaluate()\n",
    "    F1.A.set(bit(a, 6))\n",
    "    F1.B.set(bit(b, 6))\n",
    "    F1.evaluate()\n",
    "    F2.A.set(bit(a, 5))\n",
    "    F2.B.set(bit(b, 5))\n",
    "    F2.evaluate()\n",
    "    F3.A.set(bit(a, 4))\n",
    "    F3.B.set(bit(b, 4))\n",
    "    F3.evaluate()\n",
    "    F4.A.set(bit(a, 3))\n",
    "    F4.B.set(bit(b, 3))\n",
    "    F4.evaluate()\n",
    "    F5.A.set(bit(a, 2))\n",
    "    F5.B.set(bit(b, 2))\n",
    "    F5.evaluate()\n",
    "    F6.A.set(bit(a, 1))\n",
    "    F6.B.set(bit(b, 1))\n",
    "    F6.evaluate()\n",
    "    F7.A.set(bit(a, 0))\n",
    "    F7.B.set(bit(b, 0))\n",
    "    F7.evaluate()\n",
    "    \n",
    "    return[F7.Cout.value, F7.S.value,F6.S.value,F5.S.value,\n",
    "                                   F4.S.value,F3.S.value,F2.S.value,F1.S.value,F0.S.value]"
   ]
  },
  {
   "cell_type": "code",
   "execution_count": 545,
   "metadata": {},
   "outputs": [],
   "source": [
    "def negateNumber(a):\n",
    "    result = complementOne(a)\n",
    "    b = []\n",
    "    for j in result:\n",
    "        if(j == False):\n",
    "            i = 0\n",
    "            b.append(i)\n",
    "        else:\n",
    "            i = 1\n",
    "            b.append(i)\n",
    "    number = \"\".join([str(_) for _ in b])\n",
    "    print(increment(number,\"00000001\"))\n",
    "    "
   ]
  },
  {
   "cell_type": "code",
   "execution_count": 546,
   "metadata": {},
   "outputs": [
    {
     "name": "stdout",
     "output_type": "stream",
     "text": [
      "[False, False, False, True, True, False, True, True, False]\n"
     ]
    }
   ],
   "source": [
    "negateNumber(\"11001010\")"
   ]
  },
  {
   "cell_type": "code",
   "execution_count": 547,
   "metadata": {},
   "outputs": [],
   "source": [
    "def isOverflow(a,b):\n",
    "    F0 = And(\"F0\")\n",
    "    F0.A.set(bit(a,0))\n",
    "    F0.B.set(bit(b,0))\n",
    "    result = test8Bit(a,b)\n",
    "    if((F0.A.value==False and F0.B.value==False) and result[1]==True):\n",
    "        print(\"Primer caso overflow\")\n",
    "    elif((F0.A.value == True and F0.B.value ==True) and result[1]==False):\n",
    "        print(\"Segundo caso overflow\")\n",
    "    else:\n",
    "        print(\"No hay overflow\")"
   ]
  },
  {
   "cell_type": "code",
   "execution_count": 548,
   "metadata": {},
   "outputs": [
    {
     "name": "stdout",
     "output_type": "stream",
     "text": [
      "Primer caso overflow\n"
     ]
    }
   ],
   "source": [
    "isOverflow('01000000','01000000')"
   ]
  },
  {
   "cell_type": "code",
   "execution_count": 549,
   "metadata": {},
   "outputs": [
    {
     "name": "stdout",
     "output_type": "stream",
     "text": [
      "Segundo caso overflow\n"
     ]
    }
   ],
   "source": [
    "isOverflow(\"10000000\",\"10000000\")"
   ]
  },
  {
   "cell_type": "code",
   "execution_count": 550,
   "metadata": {},
   "outputs": [
    {
     "name": "stdout",
     "output_type": "stream",
     "text": [
      "No hay overflow\n"
     ]
    }
   ],
   "source": [
    "isOverflow(\"01000000\",\"00000001\")"
   ]
  },
  {
   "cell_type": "code",
   "execution_count": 551,
   "metadata": {},
   "outputs": [
    {
     "name": "stdout",
     "output_type": "stream",
     "text": [
      "No hay overflow\n"
     ]
    }
   ],
   "source": [
    "isOverflow(\"11000000\",\"11000000\")"
   ]
  },
  {
   "cell_type": "code",
   "execution_count": 552,
   "metadata": {},
   "outputs": [
    {
     "name": "stdout",
     "output_type": "stream",
     "text": [
      "No hay overflow\n"
     ]
    }
   ],
   "source": [
    "isOverflow(\"01100000\",\"10000001\")"
   ]
  },
  {
   "cell_type": "code",
   "execution_count": 553,
   "metadata": {},
   "outputs": [
    {
     "name": "stderr",
     "output_type": "stream",
     "text": [
      "test5 (__main__.NegateNumber) ... "
     ]
    },
    {
     "name": "stdout",
     "output_type": "stream",
     "text": [
      "[False, False, True, True, True, True, True, True, True]"
     ]
    },
    {
     "name": "stderr",
     "output_type": "stream",
     "text": [
      "FAIL\n",
      "test1 (__main__.Test8Bits) ... "
     ]
    },
    {
     "name": "stdout",
     "output_type": "stream",
     "text": [
      "\n"
     ]
    },
    {
     "name": "stderr",
     "output_type": "stream",
     "text": [
      "ok\n",
      "\n",
      "======================================================================\n",
      "FAIL: test5 (__main__.NegateNumber)\n",
      "----------------------------------------------------------------------\n",
      "Traceback (most recent call last):\n",
      "  File \"C:\\Users\\joche\\AppData\\Local\\Temp\\ipykernel_14916\\583109638.py\", line 5, in test5\n",
      "    self.assertEqual(negateNumber(\"10000001\"),[False, False, True, True, True, True, True, True, True]), \"Should be False, False, True, True, True, True, True, True, True\"\n",
      "AssertionError: None != [False, False, True, True, True, True, True, True, True]\n",
      "\n",
      "----------------------------------------------------------------------\n",
      "Ran 2 tests in 0.004s\n",
      "\n",
      "FAILED (failures=1)\n"
     ]
    },
    {
     "data": {
      "text/plain": [
       "<unittest.main.TestProgram at 0x1350058c2e0>"
      ]
     },
     "execution_count": 553,
     "metadata": {},
     "output_type": "execute_result"
    }
   ],
   "source": [
    "import unittest\n",
    "class Test8Bits(unittest.TestCase):\n",
    "\n",
    "    def test1(self):\n",
    "        self.assertEqual(complementOne(\"11111100\"),[False, False, False, False, False, False, True, True]), \"Should be False, False, False, False, False, False, True, True\"\n",
    "\n",
    "        \n",
    "\n",
    "unittest.main(argv=[''], verbosity=2, exit=False)"
   ]
  },
  {
   "cell_type": "code",
   "execution_count": 554,
   "metadata": {},
   "outputs": [
    {
     "name": "stderr",
     "output_type": "stream",
     "text": [
      "test5 (__main__.NegateNumber) ... FAIL\n",
      "test5 (__main__.Test8Bits) ... "
     ]
    },
    {
     "name": "stdout",
     "output_type": "stream",
     "text": [
      "[False, False, True, True, True, True, True, True, True]\n",
      "[False, False, True, True, True, True, True, True, True]\n"
     ]
    },
    {
     "name": "stderr",
     "output_type": "stream",
     "text": [
      "FAIL\n",
      "\n",
      "======================================================================\n",
      "FAIL: test5 (__main__.NegateNumber)\n",
      "----------------------------------------------------------------------\n",
      "Traceback (most recent call last):\n",
      "  File \"C:\\Users\\joche\\AppData\\Local\\Temp\\ipykernel_14916\\583109638.py\", line 5, in test5\n",
      "    self.assertEqual(negateNumber(\"10000001\"),[False, False, True, True, True, True, True, True, True]), \"Should be False, False, True, True, True, True, True, True, True\"\n",
      "AssertionError: None != [False, False, True, True, True, True, True, True, True]\n",
      "\n",
      "======================================================================\n",
      "FAIL: test5 (__main__.Test8Bits)\n",
      "----------------------------------------------------------------------\n",
      "Traceback (most recent call last):\n",
      "  File \"C:\\Users\\joche\\AppData\\Local\\Temp\\ipykernel_14916\\645260495.py\", line 5, in test5\n",
      "    self.assertEqual(negateNumber(\"10000001\"),[False, False, True, True, True, True, True, True, True]), \"Should be False, False, True, True, True, True, True, True, True\"\n",
      "AssertionError: None != [False, False, True, True, True, True, True, True, True]\n",
      "\n",
      "----------------------------------------------------------------------\n",
      "Ran 2 tests in 0.004s\n",
      "\n",
      "FAILED (failures=2)\n"
     ]
    },
    {
     "data": {
      "text/plain": [
       "<unittest.main.TestProgram at 0x1350055e4f0>"
      ]
     },
     "execution_count": 554,
     "metadata": {},
     "output_type": "execute_result"
    }
   ],
   "source": [
    "import unittest\n",
    "class Test8Bits(unittest.TestCase):\n",
    "\n",
    "    def test5(self):\n",
    "        self.assertEqual(negateNumber(\"10000001\"),[False, False, True, True, True, True, True, True, True]), \"Should be False, False, True, True, True, True, True, True, True\"\n",
    "\n",
    "        \n",
    "\n",
    "unittest.main(argv=[''], verbosity=2, exit=False)"
   ]
  },
  {
   "cell_type": "code",
   "execution_count": 555,
   "metadata": {},
   "outputs": [
    {
     "name": "stderr",
     "output_type": "stream",
     "text": [
      "test5 (__main__.NegateNumber) ... FAIL\n",
      "test2 (__main__.Test8Bits) ... "
     ]
    },
    {
     "name": "stdout",
     "output_type": "stream",
     "text": [
      "[False, False, True, True, True, True, True, True, True]\n",
      "Segundo caso overflow\n"
     ]
    },
    {
     "name": "stderr",
     "output_type": "stream",
     "text": [
      "FAIL\n",
      "\n",
      "======================================================================\n",
      "FAIL: test5 (__main__.NegateNumber)\n",
      "----------------------------------------------------------------------\n",
      "Traceback (most recent call last):\n",
      "  File \"C:\\Users\\joche\\AppData\\Local\\Temp\\ipykernel_14916\\583109638.py\", line 5, in test5\n",
      "    self.assertEqual(negateNumber(\"10000001\"),[False, False, True, True, True, True, True, True, True]), \"Should be False, False, True, True, True, True, True, True, True\"\n",
      "AssertionError: None != [False, False, True, True, True, True, True, True, True]\n",
      "\n",
      "======================================================================\n",
      "FAIL: test2 (__main__.Test8Bits)\n",
      "----------------------------------------------------------------------\n",
      "Traceback (most recent call last):\n",
      "  File \"C:\\Users\\joche\\AppData\\Local\\Temp\\ipykernel_14916\\1594814852.py\", line 5, in test2\n",
      "    self.assertEqual(isOverflow(\"10000000\",\"10000000\"),[True, False, False, False, False, False, False, False],[True, False, False, False, False, False, False, False]), \"Should be Segundo caso overflow\"\n",
      "AssertionError: None != [True, False, False, False, False, False, False, False] : [True, False, False, False, False, False, False, False]\n",
      "\n",
      "----------------------------------------------------------------------\n",
      "Ran 2 tests in 0.004s\n",
      "\n",
      "FAILED (failures=2)\n"
     ]
    },
    {
     "data": {
      "text/plain": [
       "<unittest.main.TestProgram at 0x1350058c040>"
      ]
     },
     "execution_count": 555,
     "metadata": {},
     "output_type": "execute_result"
    }
   ],
   "source": [
    "import unittest\n",
    "class Test8Bits(unittest.TestCase):\n",
    "\n",
    "    def test2(self):\n",
    "        self.assertEqual(isOverflow(\"10000000\",\"10000000\"),[True, False, False, False, False, False, False, False],[True, False, False, False, False, False, False, False]), \"Should be Segundo caso overflow\"\n",
    "\n",
    "        \n",
    "\n",
    "unittest.main(argv=[''], verbosity=2, exit=False)"
   ]
  }
 ],
 "metadata": {
  "interpreter": {
   "hash": "63fd5069d213b44bf678585dea6b12cceca9941eaf7f819626cde1f2670de90d"
  },
  "kernelspec": {
   "display_name": "Python 3.9.6 64-bit",
   "language": "python",
   "name": "python3"
  },
  "language_info": {
   "codemirror_mode": {
    "name": "ipython",
    "version": 3
   },
   "file_extension": ".py",
   "mimetype": "text/x-python",
   "name": "python",
   "nbconvert_exporter": "python",
   "pygments_lexer": "ipython3",
   "version": "3.9.6"
  },
  "orig_nbformat": 4
 },
 "nbformat": 4,
 "nbformat_minor": 2
}
