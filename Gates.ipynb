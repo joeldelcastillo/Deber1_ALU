{
 "cells": [
  {
   "cell_type": "code",
   "execution_count": 3,
   "id": "2bc125dd",
   "metadata": {},
   "outputs": [],
   "source": [
    "class Connector :\n",
    "    def __init__(self, owner, name, activates=0, monitor=0):\n",
    "        self.value = None\n",
    "        self.owner = owner\n",
    "        self.name  = name\n",
    "        self.monitor  = monitor\n",
    "        self.connects = []\n",
    "        self.activates= activates\n",
    "    def connect(self, inputs):\n",
    "        if not isinstance(inputs, list):\n",
    "            inputs = [inputs]\n",
    "        for input in inputs:\n",
    "            self.connects.append(input)\n",
    "    def set(self, value):\n",
    "        if self.value == value:\n",
    "            return      # Ignore if no change\n",
    "        self.value = value\n",
    "        if self.activates:\n",
    "            self.owner.evaluate()\n",
    "        for con in self.connects:\n",
    "            con.set(value)\n",
    "    "
   ]
  },
  {
   "cell_type": "code",
   "execution_count": 4,
   "id": "69402069",
   "metadata": {},
   "outputs": [],
   "source": [
    "class LC:\n",
    "    # Logic Circuits have names and an evaluation function defined in child\n",
    "    # classes. They will also contain a set of inputs and outputs.\n",
    "    def __init__(self, name):\n",
    "        self.name = name\n",
    "\n",
    "    def evaluate(self):\n",
    "        return"
   ]
  },
  {
   "cell_type": "code",
   "execution_count": 5,
   "id": "25ed0525",
   "metadata": {},
   "outputs": [],
   "source": [
    "class Gate2(LC):         # two input gates. Inputs A and B. Output C.\n",
    "    def __init__(self, name):\n",
    "        LC.__init__(self, name)\n",
    "        self.A = Connector(self, 'A', activates=1)\n",
    "        self.B = Connector(self, 'B', activates=1)\n",
    "        self.C = Connector(self, 'C')"
   ]
  },
  {
   "cell_type": "code",
   "execution_count": 6,
   "id": "3c0ca722",
   "metadata": {},
   "outputs": [],
   "source": [
    "class Xor(Gate2):\n",
    "    def __init__(self, name):\n",
    "        Gate2.__init__(self, name)\n",
    "        self.A1 = And(\"A1\")  # See circuit drawing to follow connections\n",
    "        self.A2 = And(\"A2\")\n",
    "        self.I1 = Not(\"I1\")\n",
    "        self.I2 = Not(\"I2\")\n",
    "        self.O1 = Or(\"O1\")\n",
    "        self.A.connect([self.A1.A, self.I2.A])\n",
    "        self.B.connect([self.I1.A, self.A2.A])\n",
    "        self.I1.B.connect([self.A1.B])\n",
    "        self.I2.B.connect([self.A2.B])\n",
    "        self.A1.C.connect([self.O1.A])\n",
    "        self.A2.C.connect([self.O1.B])\n",
    "        self.O1.C.connect([self.C])"
   ]
  },
  {
   "cell_type": "code",
   "execution_count": 7,
   "id": "80a7366b",
   "metadata": {},
   "outputs": [],
   "source": [
    "class And(Gate2):       # two input AND Gate\n",
    "    def __init__(self, name):\n",
    "        Gate2.__init__(self, name)\n",
    "\n",
    "    def evaluate(self):\n",
    "        self.C.set(self.A.value and self.B.value)\n",
    "\n",
    "\n",
    "class Or(Gate2):         # two input OR gate.\n",
    "    def __init__(self, name):\n",
    "        Gate2.__init__(self, name)\n",
    "\n",
    "    def evaluate(self):\n",
    "        self.C.set(self.A.value or self.B.value)"
   ]
  },
  {
   "cell_type": "code",
   "execution_count": 8,
   "id": "5bf2e519",
   "metadata": {},
   "outputs": [],
   "source": [
    "class Not(LC):         # Inverter. Input A. Output B.\n",
    "    def __init__(self, name):\n",
    "        LC.__init__(self, name)\n",
    "        self.A = Connector(self, 'A', activates=1)\n",
    "        self.B = Connector(self, 'B')\n",
    "\n",
    "    def evaluate(self):\n",
    "        self.B.set(not self.A.value)"
   ]
  },
  {
   "cell_type": "code",
   "execution_count": 9,
   "id": "4ce00ee0",
   "metadata": {},
   "outputs": [],
   "source": [
    "class HalfAdder(LC):         # One bit adder, A,B in. Sum and Carry out\n",
    "    def __init__(self, name):\n",
    "        LC.__init__(self, name)\n",
    "        self.A = Connector(self, 'A', 1)\n",
    "        self.B = Connector(self, 'B', 1)\n",
    "        self.S = Connector(self, 'S')\n",
    "        self.C = Connector(self, 'C')\n",
    "        self.X1 = Xor(\"X1\")\n",
    "        self.A1 = And(\"A1\")\n",
    "        self.A.connect([self.X1.A, self.A1.A])\n",
    "        self.B.connect([self.X1.B, self.A1.B])\n",
    "        self.X1.C.connect([self.S])\n",
    "        self.A1.C.connect([self.C])"
   ]
  },
  {
   "cell_type": "code",
   "execution_count": 10,
   "id": "ce5e38fd",
   "metadata": {},
   "outputs": [],
   "source": [
    "class FullAdder(LC):         # One bit adder, A,B,Cin in. Sum and Cout out\n",
    "    def __init__(self, name):\n",
    "        LC.__init__(self, name)\n",
    "        self.A = Connector(self, 'A', 1, monitor=1)\n",
    "        self.B = Connector(self, 'B', 1, monitor=1)\n",
    "        self.Cin = Connector(self, 'Cin', 1, monitor=1)\n",
    "        self.S = Connector(self, 'S', monitor=1)\n",
    "        self.Cout = Connector(self, 'Cout', monitor=1)\n",
    "        self.H1 = HalfAdder(\"H1\")\n",
    "        self.H2 = HalfAdder(\"H2\")\n",
    "        self.O1 = Or(\"O1\")\n",
    "        self.A.connect([self.H1.A])\n",
    "        self.B.connect([self.H1.B])\n",
    "        self.Cin.connect([self.H2.A])\n",
    "        self.H1.S.connect([self.H2.B])\n",
    "        self.H1.C.connect([self.O1.B])\n",
    "        self.H2.C.connect([self.O1.A])\n",
    "        self.H2.S.connect([self.S])\n",
    "        self.O1.C.connect([self.Cout])"
   ]
  },
  {
   "cell_type": "code",
   "execution_count": null,
   "id": "77918834",
   "metadata": {},
   "outputs": [],
   "source": []
  },
  {
   "cell_type": "code",
   "execution_count": 19,
   "id": "e5b959bf",
   "metadata": {},
   "outputs": [],
   "source": [
    "def test8Bit(a, b):  \n",
    "    F0 = FullAdder(\"F0\")\n",
    "    F1 = FullAdder(\"F1\")\n",
    "    F0.Cout.connect(F1.Cin)\n",
    "    F2 = FullAdder(\"F2\")\n",
    "    F1.Cout.connect(F2.Cin)\n",
    "    F3 = FullAdder(\"F3\")\n",
    "    F2.Cout.connect(F3.Cin)\n",
    "    F4 = FullAdder(\"F4\")\n",
    "    F3.Cout.connect(F4.Cin)\n",
    "    F5 = FullAdder(\"F5\")\n",
    "    F4.Cout.connect(F5.Cin)\n",
    "    F6 = FullAdder(\"F6\")\n",
    "    F5.Cout.connect(F6.Cin)\n",
    "    F7 = FullAdder(\"F7\")\n",
    "    F6.Cout.connect(F7.Cin)\n",
    "        \n",
    "    F0.Cin.set(0)\n",
    "    F0.A.set(bit(a, 7))\n",
    "    F0.B.set(bit(b, 7)) \n",
    "    F1.A.set(bit(a, 6))\n",
    "    F1.B.set(bit(b, 6))\n",
    "    F2.A.set(bit(a, 5))\n",
    "    F2.B.set(bit(b, 5))\n",
    "    F3.A.set(bit(a, 4))\n",
    "    F3.B.set(bit(b, 4))\n",
    "    F4.A.set(bit(a, 3))\n",
    "    F4.B.set(bit(b, 3))\n",
    "    F5.A.set(bit(a, 2))\n",
    "    F5.B.set(bit(b, 2))\n",
    "    F6.A.set(bit(a, 1))\n",
    "    F6.B.set(bit(b, 1))\n",
    "    F7.A.set(bit(a, 0))\n",
    "    F7.B.set(bit(b, 0))\n",
    "    \n",
    "    byte = [F7.Cout.value, F7.S.value,F6.S.value,F5.S.value,\n",
    "                                   F4.S.value,F3.S.value,F2.S.value,F1.S.value,F0.S.value]\n",
    "    return byte"
   ]
  },
  {
   "cell_type": "code",
   "execution_count": 12,
   "id": "0d8d4df3",
   "metadata": {},
   "outputs": [],
   "source": [
    "def bit(x, bit):\n",
    "    return x[bit] == '1'"
   ]
  },
  {
   "cell_type": "code",
   "execution_count": 13,
   "id": "1cfd2531",
   "metadata": {},
   "outputs": [],
   "source": [
    "def isZero(a):\n",
    "    Out = Not(\"Out\")\n",
    "    def isSimpleZero(a):\n",
    "        if len(a) == 2:\n",
    "            F0 = Or(\"F0\")\n",
    "            F0.A.set(bit(a, 0))\n",
    "            F0.B.set(bit(a, 1))\n",
    "            return F0.C.value\n",
    "        else:\n",
    "            F1 = Or(\"F1\")\n",
    "            left = isSimpleZero(a[0:int(len(a)/2)])\n",
    "            right = isSimpleZero(a[int(len(a)/2):int(len(a))])\n",
    "            F1.A.set(left)\n",
    "            F1.B.set(right)\n",
    "            # print(left, right)\n",
    "            return (F1.C.value)\n",
    "            \n",
    "    Out.A.set(isSimpleZero(a))\n",
    "    Out.evaluate()\n",
    "    return str(int(Out.B.value))\n"
   ]
  },
  {
   "cell_type": "code",
   "execution_count": 14,
   "id": "65f4b937",
   "metadata": {},
   "outputs": [],
   "source": [
    "def isBasicZero(a):\n",
    "    F0 = Or(\"F0\")\n",
    "    F1 = Or(\"F1\")\n",
    "    F2 = Or(\"F2\")\n",
    "    F3 = Or(\"F3\")\n",
    "\n",
    "    G0 = Or(\"G6\")\n",
    "    G1 = Or(\"G7\")\n",
    "\n",
    "    H0 = Or(\"G7\")\n",
    "\n",
    "    Cout = Not(\"Salida\")\n",
    "\n",
    "    F0.A.set(bit(a, 7))\n",
    "    F0.B.set(bit(a, 6))\n",
    "\n",
    "    F1.A.set(bit(a, 5))\n",
    "    F1.B.set(bit(a, 4))\n",
    "    \n",
    "    F2.A.set(bit(a, 3))\n",
    "    F2.B.set(bit(a, 2))\n",
    "\n",
    "    F3.A.set(bit(a, 1))\n",
    "    F3.B.set(bit(a, 0))\n",
    "#------------------------------\n",
    "    G0.A.set(F0.C.value)\n",
    "    G0.B.set(F1.C.value)\n",
    "\n",
    "    G1.A.set(F2.C.value)\n",
    "    G1.B.set(F3.C.value)\n",
    "\n",
    "#---------------------------\n",
    "    H0.A.set(G0.C.value)\n",
    "    H0.B.set(G1.C.value)\n",
    "\n",
    "    Cout.A.set(H0.C.value)\n",
    "    Cout.evaluate()\n",
    "\n",
    "    return(Cout.B.value)\n"
   ]
  },
  {
   "cell_type": "code",
   "execution_count": 15,
   "id": "34a892c3",
   "metadata": {},
   "outputs": [
    {
     "data": {
      "text/plain": [
       "True"
      ]
     },
     "execution_count": 15,
     "metadata": {},
     "output_type": "execute_result"
    }
   ],
   "source": [
    "isBasicZero('00000000')"
   ]
  },
  {
   "cell_type": "code",
   "execution_count": 16,
   "id": "e67d74e4",
   "metadata": {},
   "outputs": [],
   "source": [
    "def isNegative(a):\n",
    "    F0 = And(\"F0\")\n",
    "    F0.A.set(bit(a, 0))\n",
    "    F0.B.set(True)\n",
    "    return(str(int(F0.C.value)))\n"
   ]
  },
  {
   "cell_type": "code",
   "execution_count": 17,
   "id": "134ae54b",
   "metadata": {},
   "outputs": [
    {
     "data": {
      "text/plain": [
       "'0'"
      ]
     },
     "execution_count": 17,
     "metadata": {},
     "output_type": "execute_result"
    }
   ],
   "source": [
    "isNegative(\"00001000\")"
   ]
  },
  {
   "cell_type": "code",
   "execution_count": 20,
   "id": "86e2e34c",
   "metadata": {},
   "outputs": [
    {
     "data": {
      "text/plain": [
       "[True, True, False, False, False, True, True, False, False]"
      ]
     },
     "execution_count": 20,
     "metadata": {},
     "output_type": "execute_result"
    }
   ],
   "source": [
    "test8Bit('11100010','10101010')"
   ]
  },
  {
   "cell_type": "code",
   "execution_count": null,
   "id": "fa48e313",
   "metadata": {},
   "outputs": [],
   "source": [
    "import unittest\n",
    "class Test8Bits(unittest.TestCase):\n",
    "\n",
    "    def test1(self):\n",
    "        self.assertEqual(test8Bit('11000000','10101000'),[True, False, True, True, False, True, False, False, False]), \"Should be True False True True False True False False False\"\n",
    "    def test2(self):\n",
    "        self.assertEqual(test8Bit('11000010','00101010'),[False, True, True, True, False, True, True, False, False]), \"Should be True False True True False True False False False\"\n",
    "    def test3(self):\n",
    "        self.assertEqual(test8Bit('11000010','00101010'),[True, True, False, False, False, True, True, False, False]), \"Should be True False True True False True False False False\"\n",
    "    def test4(self):\n",
    "        self.assertEqual(test8Bit('11000010','00101010'),[True, False, False, False, False, True, True, False, False]), \"Should be True False True True False True False False False\"\n",
    "    def test5(self):\n",
    "        self.assertEqual(test8Bit('01100010','10101011'),[True, False, False, False, False, True, True, False, True]), \"Should be True False True True False True False False False\"\n",
    "        \n",
    "\n",
    "unittest.main(argv=[''], verbosity=2, exit=False)"
   ]
  },
  {
   "cell_type": "code",
   "execution_count": null,
   "id": "d1e1264a",
   "metadata": {},
   "outputs": [],
   "source": [
    "import unittest\n",
    "class TestIsNegative(unittest.TestCase):\n",
    "\n",
    "    def test1(self):\n",
    "        self.assertEqual(isNegative('11000000'),'1'), \"Should be True\"\n",
    "    def test2(self):\n",
    "        self.assertEqual(isNegative('01000010'),'0'), \"Should be False\"\n",
    "    def test3(self):\n",
    "        self.assertEqual(isNegative('11000010'), '1'), \"Should be True\"\n",
    "    def test4(self):\n",
    "        self.assertEqual(isNegative('11111111'), '1'), \"Should be True\"\n",
    "    def test5(self):\n",
    "        self.assertEqual(isNegative('00000000'),'0'), \"Should be False\"\n",
    "\n",
    "unittest.main(argv=[''], verbosity=2, exit=False)"
   ]
  }
 ],
 "metadata": {
  "kernelspec": {
   "display_name": "Python 3",
   "language": "python",
   "name": "python3"
  },
  "language_info": {
   "codemirror_mode": {
    "name": "ipython",
    "version": 3
   },
   "file_extension": ".py",
   "mimetype": "text/x-python",
   "name": "python",
   "nbconvert_exporter": "python",
   "pygments_lexer": "ipython3",
   "version": "3.9.6"
  }
 },
 "nbformat": 4,
 "nbformat_minor": 5
}
